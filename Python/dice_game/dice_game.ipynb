{
  "nbformat": 4,
  "nbformat_minor": 0,
  "metadata": {
    "colab": {
      "name": "Betsy_Brady_HW_6.ipynb",
      "provenance": [],
      "collapsed_sections": []
    },
    "kernelspec": {
      "name": "python3",
      "display_name": "Python 3"
    }
  },
  "cells": [
    {
      "cell_type": "markdown",
      "metadata": {
        "id": "TmO7-Ntoq_V3"
      },
      "source": [
        "Code for Interactive Play"
      ]
    },
    {
      "cell_type": "code",
      "metadata": {
        "id": "M6gRwCDENryH"
      },
      "source": [
        "import random\n",
        "\n",
        "# Class for a single die\n",
        "class Die(object):\n",
        "  def __init__(self):\n",
        "    # Saves display for faces\n",
        "    face1 = [\" _________ \",\n",
        "             \"|         |\",\n",
        "             \"|         |\",\n",
        "             \"|    *    |\",\n",
        "             \"|         |\",\n",
        "             \"|_________|\"]\n",
        "    face2 = [\" _________ \",\n",
        "             \"|         |\",\n",
        "             \"|      *  |\",\n",
        "             \"|         |\",\n",
        "             \"|  *      |\",\n",
        "             \"|_________|\"]\n",
        "    face3 = [\" _________ \",\n",
        "             \"|         |\",\n",
        "             \"|  *      |\",\n",
        "             \"|    *    |\",\n",
        "             \"|      *  |\",\n",
        "             \"|_________|\"]\n",
        "    face4 = [\" _________ \",\n",
        "             \"|         |\",\n",
        "             \"|  *   *  |\",\n",
        "             \"|         |\",\n",
        "             \"|  *   *  |\",\n",
        "             \"|_________|\"]\n",
        "    face5 = [\" _________ \",\n",
        "             \"|         |\",\n",
        "             \"|  *   *  |\",\n",
        "             \"|    *    |\",\n",
        "             \"|  *   *  |\",\n",
        "             \"|_________|\"]\n",
        "    face6 = [\" _________ \",\n",
        "             \"|         |\",\n",
        "             \"|  *   *  |\",\n",
        "             \"|  *   *  |\",\n",
        "             \"|  *   *  |\",\n",
        "             \"|_________|\"]\n",
        "\n",
        "    self.faces = [face1, face2, face3, face4, face5, face6]\n",
        "    # List created to be used for random.choice\n",
        "    self.face_value_list = [1, 2, 3, 4, 5, 6]\n",
        "    self.face_value = 1\n",
        "\n",
        "  # Rolls die and returns face value\n",
        "  def roll_die(self):\n",
        "    self.face_value = random.choice(self.face_value_list)\n",
        "    return self.face_value\n",
        "\n",
        "# Class for a pair of dice\n",
        "class Dice_Pair(object):\n",
        "  def __init__(self):\n",
        "    self.die1 = Die()\n",
        "    self.die2 = Die()\n",
        "    self.total_value = 2\n",
        "  \n",
        "  # Rolls dice and returns combined value of dice\n",
        "  def roll_dice(self):\n",
        "    self.total_value = self.die1.roll_die()\n",
        "    self.total_value += self.die2.roll_die()\n",
        "    return self.total_value\n",
        "\n",
        "  # Prints both dice\n",
        "  def print_dice(self):\n",
        "    # Iterates through both arrays to print the dice on the same lines\n",
        "    for i in range(6):\n",
        "      print(self.die1.faces[self.die1.face_value - 1][i], \n",
        "            self.die2.faces[self.die2.face_value - 1][i])\n",
        "    print()\n",
        "    return\n",
        "\n",
        "# Class for a game\n",
        "class Game(object):\n",
        "  def __init__(self):\n",
        "    self.pair = Dice_Pair()\n",
        "    self.point = 0\n",
        "    self.roll = 0\n",
        "    self.bank = 0\n",
        "    self.bet = 1\n",
        "  \n",
        "  # Check meaning of dice throw\n",
        "  # Input: value of dice throw\n",
        "  # Output: true if game is over, false if not\n",
        "  def check_value(self, dice_value):\n",
        "    # Checks if the roll is the first roll\n",
        "    if self.roll == 1:\n",
        "      if (dice_value == 7) or (dice_value == 11):\n",
        "        self.bank += self.bet\n",
        "        print(\"You win!\")\n",
        "        return True\n",
        "      elif (dice_value == 2) or (dice_value == 3) or (dice_value == 12):\n",
        "        self.bank -= self.bet\n",
        "        print(\"You lose.\")\n",
        "        return True\n",
        "      else:\n",
        "        self.point = dice_value\n",
        "        return False\n",
        "    else:\n",
        "      if (dice_value == 7):\n",
        "        self.bank -= self.bet\n",
        "        print(\"You lose.\")\n",
        "        return True\n",
        "      elif (dice_value == self.point):\n",
        "        self.bank += self.bet\n",
        "        print(\"You win!\")\n",
        "        return True\n",
        "      else:\n",
        "        return False\n",
        "\n",
        "  # Function to play through a single roll\n",
        "  # Outputs true if roll ends round and false if not\n",
        "  def play_roll(self):\n",
        "    self.roll += 1\n",
        "    dice_value = self.pair.roll_dice()\n",
        "    self.pair.print_dice()\n",
        "\n",
        "    # Uses output from check_value to determine if round is over\n",
        "    round_over = self.check_value(dice_value)\n",
        "    if (round_over):\n",
        "      print(\"Your new bankroll is\", self.bank)\n",
        "      return False\n",
        "    else:\n",
        "      # Uses input to check if enter is pressed\n",
        "      print(\"Trying for {}, press enter to throw again\".format(self.point))\n",
        "      input()\n",
        "      return True\n",
        "  \n",
        "  # Function to play through a round\n",
        "  def play_round(self):\n",
        "    # Resets values for each round\n",
        "    self.point = 0\n",
        "    self.roll = 0\n",
        "    print(\"What would you like to bet? If you are done playing, enter 0.\")\n",
        "    self.bet = int(input())\n",
        "    if (self.bet == 0):\n",
        "      return\n",
        "\n",
        "    print(\"Throw dice by pressing enter\")\n",
        "    input()\n",
        "    game_going = True\n",
        "\n",
        "    # Uses output from play_roll to check if round is over\n",
        "    while (game_going):\n",
        "      game_going = self.play_roll()\n",
        "  \n",
        "  # Function to play through a game\n",
        "  def play_game(self):\n",
        "    print(\"How many chips would you like to start with?\")\n",
        "    self.bank = int(input())\n",
        "\n",
        "    # Checks if game should still continue\n",
        "    while (self.bet != 0):\n",
        "      self.play_round()\n",
        "    \n",
        "    if (self.bet == 0):\n",
        "      print(\"Thanks for playing!\")\n",
        "    \n",
        "    return"
      ],
      "execution_count": 1,
      "outputs": []
    },
    {
      "cell_type": "markdown",
      "metadata": {
        "id": "H504aOmetK-f"
      },
      "source": [
        "Interactive Play"
      ]
    },
    {
      "cell_type": "code",
      "metadata": {
        "id": "PXCvZI7EtNbG",
        "colab": {
          "base_uri": "https://localhost:8080/"
        },
        "outputId": "6bfbc757-27d0-4955-a757-cadf91468ab5"
      },
      "source": [
        "# Code to start game\n",
        "game = Game()\n",
        "game.play_game()"
      ],
      "execution_count": null,
      "outputs": [
        {
          "output_type": "stream",
          "text": [
            "How many chips would you like to start with?\n",
            "6\n",
            "What would you like to bet? If you are done playing, enter 0.\n",
            "9\n",
            "Throw dice by pressing enter\n",
            "\n",
            " _________   _________ \n",
            "|         | |         |\n",
            "|  *   *  | |  *   *  |\n",
            "|  *   *  | |  *   *  |\n",
            "|  *   *  | |  *   *  |\n",
            "|_________| |_________|\n",
            "\n",
            "You lose.\n",
            "Your new bankroll is -3\n",
            "What would you like to bet? If you are done playing, enter 0.\n"
          ],
          "name": "stdout"
        }
      ]
    },
    {
      "cell_type": "markdown",
      "metadata": {
        "id": "mvD8NFiisu9v"
      },
      "source": [
        "Monte Carlo Estimate for Winning a Pass Bet"
      ]
    },
    {
      "cell_type": "code",
      "metadata": {
        "id": "DKagwnqOti-R"
      },
      "source": [
        "# Class for a game\n",
        "class Montecarlo_Game(object):\n",
        "  def __init__(self, dice):\n",
        "    self.pair = dice\n",
        "    self.point = 0\n",
        "    self.roll = 0\n",
        "    self.win = False\n",
        "  \n",
        "  # Check meaning of dice throw\n",
        "  # Input: value of dice throw\n",
        "  # Output: true if game is over, false if not\n",
        "  # Sets self.win variable accordingly\n",
        "  def check_value(self, dice_value):\n",
        "    # Checks if the roll is the first roll\n",
        "    if self.roll == 1:\n",
        "      if (dice_value == 7) or (dice_value == 11):\n",
        "        self.win = True\n",
        "        return True\n",
        "      elif (dice_value == 2) or (dice_value == 3) or (dice_value == 12):\n",
        "        self.win = False\n",
        "        return True\n",
        "      else:\n",
        "        self.point = dice_value\n",
        "        return False\n",
        "    else:\n",
        "      if (dice_value == 7):\n",
        "        self.win = False\n",
        "        return True\n",
        "      elif (dice_value == self.point):\n",
        "        self.win = True\n",
        "        return True\n",
        "      else:\n",
        "        return False\n",
        "\n",
        "  # Function to play through a single roll\n",
        "  # Outputs true if roll ends round and false if not\n",
        "  def play_roll(self):\n",
        "    self.roll += 1\n",
        "    dice_value = self.pair.roll_dice()\n",
        "\n",
        "    # Uses output from check_value to determine if round is over\n",
        "    round_over = self.check_value(dice_value)\n",
        "    if (round_over):\n",
        "      return False\n",
        "    else:\n",
        "      return True\n",
        "  \n",
        "  # Function to play through a round\n",
        "  def play_round(self):\n",
        "    # Resets values for each round\n",
        "    self.point = 0\n",
        "    self.roll = 0\n",
        "\n",
        "    game_going = True\n",
        "\n",
        "    # Uses output from play_roll to check if round is over\n",
        "    while (game_going):\n",
        "      game_going = self.play_roll()\n",
        "    \n",
        "    # Return if true or false\n",
        "    if (self.win):\n",
        "      return True\n",
        "    else:\n",
        "      return False\n",
        "\n",
        "  def run_test(self, test_number):\n",
        "    # Keeps track of rounds won and rounds played\n",
        "    rounds_played = 0.0\n",
        "    rounds_won = 0.0\n",
        "\n",
        "    for _ in range(test_number):\n",
        "      won = self.play_round()\n",
        "      rounds_played += 1\n",
        "      if (won):\n",
        "        rounds_won += 1\n",
        "\n",
        "    return rounds_won/rounds_played"
      ],
      "execution_count": null,
      "outputs": []
    },
    {
      "cell_type": "code",
      "metadata": {
        "id": "AoKfvkoM0Fhd",
        "colab": {
          "base_uri": "https://localhost:8080/",
          "height": 34
        },
        "outputId": "18002bdb-e3c9-4c3e-affa-0cd9b59d69a6"
      },
      "source": [
        "dice = Dice_Pair()\n",
        "pass_bet = Montecarlo_Game(dice)\n",
        "result = pass_bet.run_test(1000000)\n",
        "print(\"Monte Carlo estimate of the probability of winning a pass bet:\", result)"
      ],
      "execution_count": null,
      "outputs": [
        {
          "output_type": "stream",
          "text": [
            "Monte Carlo estimate of the probability of winning a pass bet: 0.492984\n"
          ],
          "name": "stdout"
        }
      ]
    },
    {
      "cell_type": "markdown",
      "metadata": {
        "id": "0Qa5Klqe3jCL"
      },
      "source": [
        "Monte Carlo Estimate for Winning a Don't Pass Bet"
      ]
    },
    {
      "cell_type": "code",
      "metadata": {
        "id": "ERjoD_724K0_"
      },
      "source": [
        "# Class for a game\n",
        "class Montecarlo_Dont_Pass_Game(object):\n",
        "  def __init__(self, dice):\n",
        "    self.pair = dice\n",
        "    self.point = 0\n",
        "    self.roll = 0\n",
        "    self.win = False\n",
        "    # Variable marking if the round was lost by throwing a 12\n",
        "    self.twelve_loss = False\n",
        "  \n",
        "  # Check meaning of dice throw\n",
        "  # Input: value of dice throw\n",
        "  # Output: true if game is over, false if not\n",
        "  # Sets self.win and self.twelve_loss variables accordingly\n",
        "  def check_value(self, dice_value):\n",
        "    # Checks if the roll is the first roll\n",
        "    self.twelve_loss = False\n",
        "    if self.roll == 1:\n",
        "      if (dice_value == 7) or (dice_value == 11):\n",
        "        self.win = True\n",
        "        return True\n",
        "      elif (dice_value == 2) or (dice_value == 3) or (dice_value == 12):\n",
        "        self.win = False\n",
        "        if (dice_value == 12):\n",
        "          self.twelve_loss = True\n",
        "        return True\n",
        "      else:\n",
        "        self.point = dice_value\n",
        "        return False\n",
        "    else:\n",
        "      if (dice_value == 7):\n",
        "        self.win = False\n",
        "        return True\n",
        "      elif (dice_value == self.point):\n",
        "        self.win = True\n",
        "        return True\n",
        "      else:\n",
        "        return False\n",
        "\n",
        "  # Function to play through a single roll\n",
        "  # Outputs true if roll ends round and false if not\n",
        "  def play_roll(self):\n",
        "    self.roll += 1\n",
        "    dice_value = self.pair.roll_dice()\n",
        "\n",
        "    # Uses output from check_value to determine if round is over\n",
        "    round_over = self.check_value(dice_value)\n",
        "    if (round_over):\n",
        "      return False\n",
        "    else:\n",
        "      return True\n",
        "  \n",
        "  # Function to play through a round\n",
        "  def play_round(self):\n",
        "    # Resets values for each round\n",
        "    self.point = 0\n",
        "    self.roll = 0\n",
        "\n",
        "    game_going = True\n",
        "\n",
        "    # Uses output from play_roll to check if round is over\n",
        "    while (game_going):\n",
        "      game_going = self.play_roll()\n",
        "    \n",
        "    # Return if true or false\n",
        "    if (self.win):\n",
        "      return True\n",
        "    else:\n",
        "      return False\n",
        "\n",
        "  def run_test(self, test_number):\n",
        "    # Tracks statistics for each round\n",
        "    rounds_played = 0.0\n",
        "    rounds_lost = 0.0\n",
        "    twelve_loss = 0.0\n",
        "\n",
        "    for _ in range(test_number):\n",
        "      won = self.play_round()\n",
        "      rounds_played += 1\n",
        "      if (not (won)):\n",
        "        if (self.twelve_loss):\n",
        "          twelve_loss += 1\n",
        "        else:\n",
        "          # Only adds to rounds_lost if the loss was not by throwing a 12\n",
        "          rounds_lost += 1\n",
        "\n",
        "    return rounds_lost/(rounds_played - twelve_loss)"
      ],
      "execution_count": null,
      "outputs": []
    },
    {
      "cell_type": "code",
      "metadata": {
        "id": "t9dYx1j74vQn",
        "colab": {
          "base_uri": "https://localhost:8080/",
          "height": 34
        },
        "outputId": "4bc06822-e5db-4b7e-a0a6-be968b4ab850"
      },
      "source": [
        "dice = Dice_Pair()\n",
        "dont_pass_bet = Montecarlo_Dont_Pass_Game(dice)\n",
        "result = dont_pass_bet.run_test(1000000)\n",
        "print(\"Monte Carlo estimate of the probability of winning a don't pass bet:\", result)"
      ],
      "execution_count": null,
      "outputs": [
        {
          "output_type": "stream",
          "text": [
            "Monte Carlo estimate of the probability of winning a don't pass bet: 0.49252535516776424\n"
          ],
          "name": "stdout"
        }
      ]
    },
    {
      "cell_type": "markdown",
      "metadata": {
        "id": "p5BIfolWGh4x"
      },
      "source": [
        "Loaded Dice"
      ]
    },
    {
      "cell_type": "code",
      "metadata": {
        "id": "9RP8AllQGoCT"
      },
      "source": [
        "# Subclasses for the loaded dice\n",
        "class Loaded_Die(Die):\n",
        "  # Takes an input of the side to double\n",
        "  def __init__(self, extra_side):\n",
        "    Die.__init__(self)\n",
        "    # Adding the value to the list makes it twice as likely\n",
        "    self.face_value_list.append(extra_side)\n",
        "\n",
        "class Loaded_Dice(Dice_Pair):\n",
        "  # Takes two inputs of the side to double for each die\n",
        "  def __init__(self, die1_value, die2_value):\n",
        "    Dice_Pair.__init__(self)\n",
        "    # Replaces the dice with loaded dice\n",
        "    self.die1 = Loaded_Die(die1_value)\n",
        "    self.die2 = Loaded_Die(die2_value)"
      ],
      "execution_count": null,
      "outputs": []
    },
    {
      "cell_type": "code",
      "metadata": {
        "id": "2u6dwXNZH2vL",
        "colab": {
          "base_uri": "https://localhost:8080/",
          "height": 391
        },
        "outputId": "cdff3405-77f1-4311-ffdf-93c9185e6c52"
      },
      "source": [
        "# Header for table\n",
        "print(\"{0:>32s} {1:>35s}\".format(\"Pass bet win probability:\", \"Don't pass bet win probability:\"))\n",
        "\n",
        "# Prints the label and probabilities for all dice combinations\n",
        "for i in range(1,7):\n",
        "  # j starts from i to avoid pair repeats (ie [1,2] and [2,1])\n",
        "  for j in range(i,7):\n",
        "    print(\"[{0:d}, {1:d}] \".format(i, j), end='')\n",
        "    pair = Loaded_Dice(i, j)\n",
        "    pass_bet = Montecarlo_Game(pair)\n",
        "    dont_pass_bet = Montecarlo_Dont_Pass_Game(pair)\n",
        "    pass_bet_result = pass_bet.run_test(1000000)\n",
        "    dont_pass_bet_result = dont_pass_bet.run_test(1000000)\n",
        "    print(\"{0:1.8f}{1:20s}{2:1.8f}\".format(pass_bet_result, '', dont_pass_bet_result))"
      ],
      "execution_count": null,
      "outputs": [
        {
          "output_type": "stream",
          "text": [
            "       Pass bet win probability:     Don't pass bet win probability:\n",
            "[1, 1] 0.44572300                    0.54565743\n",
            "[1, 2] 0.45920600                    0.53153036\n",
            "[1, 3] 0.48436900                    0.50568380\n",
            "[1, 4] 0.48415300                    0.50694309\n",
            "[1, 5] 0.49163700                    0.49821604\n",
            "[1, 6] 0.46639700                    0.51383102\n",
            "[2, 2] 0.48609600                    0.50385702\n",
            "[2, 3] 0.49906000                    0.48962995\n",
            "[2, 4] 0.49871000                    0.49035185\n",
            "[2, 5] 0.49294000                    0.49654025\n",
            "[2, 6] 0.49122400                    0.48732287\n",
            "[3, 3] 0.51436900                    0.47642771\n",
            "[3, 4] 0.49743500                    0.49214492\n",
            "[3, 5] 0.51891800                    0.46984754\n",
            "[3, 6] 0.50374400                    0.47411502\n",
            "[4, 4] 0.51287700                    0.47502238\n",
            "[4, 5] 0.51943000                    0.46979901\n",
            "[4, 6] 0.50455800                    0.47392512\n",
            "[5, 5] 0.52790200                    0.46235562\n",
            "[5, 6] 0.52056100                    0.45792620\n",
            "[6, 6] 0.48658700                    0.46987611\n"
          ],
          "name": "stdout"
        }
      ]
    }
  ]
}